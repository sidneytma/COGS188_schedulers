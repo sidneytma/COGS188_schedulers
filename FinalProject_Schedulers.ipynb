{
 "cells": [
  {
   "cell_type": "markdown",
   "metadata": {},
   "source": [
    "# COGS 118B - Final Project"
   ]
  },
  {
   "cell_type": "markdown",
   "metadata": {},
   "source": [
    "# Automated Shift Scheduling\n",
    "\n",
    "## Group members\n",
    "\n",
    "- Immanuel Chai\n",
    "- Sidney Ma\n",
    "- Amy Liu"
   ]
  },
  {
   "cell_type": "markdown",
   "metadata": {},
   "source": [
    "# Abstract \n",
    "The goal of the project is to automate and optimally create a scheduler for a dining hall with 100 student workers each with a randomly generated class schedule while improving the schedule over time through deep learning. The data used is a csv file that contains a list of 100 students alongside their availability for every half hour in the day starting from 6:00 am to 11:30 pm. Initially, the solution involves creating a scheduler that assigns students to shifts based on the basic requirements. The scheduler eventually optimizes to meet the other constraints. The final schedule is saved to an excel file where it highlights when each student has a shift and the scheduler is measured based on how well it can stick to the constraints while also keeping the basic requirements."
   ]
  },
  {
   "cell_type": "markdown",
   "metadata": {},
   "source": [
    "# Background\n",
    "\n",
    "The workforce scheduling problem (WSP) involves determining the optimal assignment of workers to various work periods while satisfying constraints such as labor laws and employee preferences<sup>([1](https://www.researchgate.net/publication/2333359_Workforce_Scheduling))</sup>. This problem is crucial in maximizing organizational efficiency and profitability without compromising staff well-being.\n",
    "\n",
    "WSP has been a significant theme in operations research due to its broad applications in industries reliant on human capital, such as healthcare, public transportation, and customer service<sup>([2](https://www.researchgate.net/publication/46189793_Heuristic_Algorithm_for_Workforce_Scheduling_Problems))</sup>. These industries require efficient scheduling to ensure high service levels and operational efficiency. In the context of higher education, one application of the WSP can be found in assigning shifts for student workers at the dining hall. This setting presents unique challenges, such as students’ class schedules, ensuring adequate staffing in opening and closing shift hours, and preventing consecutive closing and opening shifts.\n",
    "\n",
    "Previous research has applied various algorithms and methodologies to address WSP. Techniques used for Constraint-Satisfaction Problems (CSPs) are well-suited for handling the complex and diverse constraints typical of scheduling problems<sup>([3](http://eil2.mie.utoronto.ca/wp-content/uploads/scheduling/papers/fox-ecai90.pdf))</sup>. Machine learning methods, particularly reinforcement learning, have also shown promise in dynamically adjusting schedules based on real-time data and learning from historical scheduling outcomes<sup>([4](https://www.sciencedirect.com/science/article/pii/S2212827122001846))</sup>."
   ]
  },
  {
   "cell_type": "markdown",
   "metadata": {},
   "source": [
    "# Problem Statement\n",
    "\n",
    "This problem is an approximation of the needs of managers at the UCSD Sixth Market, where they have to assign shifts for student workers each week, based on their class schedules and a set of other constraints. Our goal is to create a tool that takes in a large dataset of student workers’ class schedules and outputs a realistic, fair, and efficient work shift schedule for a given facility. Specifically, the tool will be provided with 100 unique students and their weekly class schedules. It will need to organize a schedule such that at least 6 students are present in the facility at all open times (6am - 12 am), each shift is 4.5 hours long, each student works 3 or 4 shifts per week, and does not work more than 1 shift per day. \n",
    "\n",
    "As mentioned before, this problem could be appropriately modeled as a CSP. The tool’s performance will be based on how well it abides by the above constraints, measured by its reward scores. We will determine the exact preferences in the process. We also plan to replicate its performance with a wide variety of student schedules to ensure that it is generalizable to new students."
   ]
  },
  {
   "cell_type": "markdown",
   "metadata": {},
   "source": [
    "# Data\n",
    "\n",
    "In order to train and test our tool, we will need student class schedule data to work with. While it could be possible to collect real student schedule data, this data might not be readily available to us, and it might lead to a considerable privacy violation. To avoid this, we plan to create a synthetic dataset which will model what typical UCSD student class schedules look like. Each observation of this dataset represents a student and their weekly class schedule. This includes their ID, name, and hour-by-hour availability from Sunday through Saturday, 6:00am to 11:30pm. A rough example model of this dataset can be found here: https://github.com/iachai/COGS188_schedulers/blob/main/example.csv.\n",
    "\n",
    "While it could also be possible to collect data on real shift schedules to get a sense of what a “good schedule” looks like, this involves the same problem as before, with access and privacy issues. Most likely, we will not need this data anyway, as our solution does not involve modeling after real schedules.\n"
   ]
  },
  {
   "cell_type": "code",
   "execution_count": null,
   "metadata": {},
   "outputs": [],
   "source": [
    "import pandas as pandas\n",
    "file_path = 'example.csv'\n",
    "students_df = pd.read_csv(file_path)\n",
    "print(students_df.head())"
   ]
  },
  {
   "cell_type": "markdown",
   "metadata": {},
   "source": [
    "Additionally, since shifts only happen on selected times in this case, we narrowed the dataset down to a 4.5-hour resolution, which makes it easier to see availability shift-by-shift."
   ]
  },
  {
   "cell_type": "code",
   "execution_count": null,
   "metadata": {},
   "outputs": [],
   "source": [
    "import pandas as pd\n",
    "\n",
    "file_path = 'example_students.csv'\n",
    "students_df = pd.read_csv(file_path)\n",
    "days = ['sun', 'mon', 'tue', 'wed', 'thu', 'fri', 'sat']\n",
    "shifts = {\n",
    "    '0600am-1030am': ['0600am', '0630am', '0700am', '0730am', '0800am', '0830am', '0900am', '0930am', '1000am', '1030am'],\n",
    "    '1030am-0300pm': ['1030am', '1100am', '1130am', '1200pm', '1230pm', '0100pm', '0130pm', '0200pm', '0230pm', '0300pm'],\n",
    "    '0300pm-0730pm': ['0300pm', '0330pm', '0400pm', '0430pm', '0500pm', '0530pm', '0600pm', '0630pm', '0700pm', '0730pm'],\n",
    "    '0730pm-1130pm': ['0730pm', '0800pm', '0830pm', '0900pm', '0930pm', '1000pm', '1030pm', '1100pm', '1130pm']\n",
    "}\n",
    "\n",
    "new_schedule_df = pd.DataFrame(columns=['id', 'name'] + [f\"{day}-{shift}\" for day in days for shift in shifts.keys()])\n",
    "new_schedule_df['id'] = students_df['id']\n",
    "new_schedule_df['name'] = students_df['name']\n",
    "\n",
    "def check_shift_availability(student_id, day, shift):\n",
    "    for hour in shifts[shift]:\n",
    "        if not students_df.at[student_id, f\"{day}{hour}\"]:\n",
    "            return False\n",
    "    return True\n",
    "\n",
    "for student_id in range(len(students_df)):\n",
    "    for day in days:\n",
    "        for shift in shifts:\n",
    "            new_schedule_df.at[student_id, f\"{day}-{shift}\"] = check_shift_availability(student_id, day, shift)\n",
    "\n",
    "            \n",
    "output_file_path = 'availability_schedule.xlsx'\n",
    "new_schedule_df.to_excel(output_file_path, index=False)\n",
    "new_schedule_df"
   ]
  },
  {
   "cell_type": "markdown",
   "metadata": {},
   "source": [
    "# Proposed Solution\n",
    "\n",
    "We will test out two types of algorithms for this problem. \n",
    "1. **Constraint Satisfaction Problem (CSP)**:\n",
    "* We will take each students’ assigned shifts as a variable, and the possible shift slots as the domain. The basic constraints are that (1) each student can only work 3 or 4 shifts per week, (2) between 6am - 12am, at least 6 student workers will always be present, (3) no shifts can overlap with class times, and (4) a shift always starts on the clock or at half and hour. \n",
    "* We first assign shifts to the student with least available time slots, and recursively assign shifts to the next student. We will propagate this updated constraint to the domains of remaining students. If there are any conflicts, we will backtrack to the last assignment. Finally, we check that all students are assigned shifts without conflicts, and verify our solution. \n",
    "2. **Reinforcement Learning with Q-learning**:\n",
    "* We will define the states as the current schedule configuration, and actions as assigning a shift. We will give rewards for satisfying each constraint (e.g., add score for having 3 or 4 shifts per week, minus score for having consecutive shifts). We will test out different learning rates and epsilon scores to find the optimal policy. Finally, we check that all students are assigned shifts without conflicts. "
   ]
  },
  {
   "cell_type": "markdown",
   "metadata": {},
   "source": [
    "# Evaluation Metrics\n",
    "\n",
    "For each schedule result, we will test the following metrics on the training and testing dataset. \n",
    "1. **Schedule feasibility:**\n",
    "* Measures the percentage of constraints satisfied by the algorithm over the total number of constraints which would include students having 3-4 working shifts, no more than one shift per day, avoid consecutive opening and closing shifts, having enough student workers during peak hours, and having 1-2 leads per shift.\n",
    "\n",
    "* Schedule feasibility = (Number of satisfied constraints/Total constraints) x number of students\n",
    "Ex: IF there are 350 satisfied constraints out of 400 total constraints, the constraint satisfaction would be 87.5%\n",
    "\n",
    "2. **Student workload balance:** \n",
    "* How even the workload is distributed to students based on their number of shifts and their schedule. For example, the score would be low if certain students are only assigned 2 shifts and others are assigned 5. \n",
    "\n",
    "* Workload balance = standard deviation of number of shifts = std (1/n * sum (Si - S_mean)^2), where we have n students in total, i goes from 1 to n, and S represents the number of shifts per student per week. \n",
    "3. **Computational efficiency:** \n",
    "* Time taken to generate schedules. We want the tool to be generalized to larger facilities, so a faster calculation would have a better performance. \n",
    "4. **Lead presence score:** \n",
    "* Metric that measures the amount of shifts that have 1-2 leads present\n",
    "* Lead Presence score = (Number of shifts 1-2 leads/Total number of shifts) x 100\n",
    "    * Ex: If there are 100 shifts and 85 of them have 1-2 leads present, then the lead presence score would be 85%"
   ]
  },
  {
   "cell_type": "markdown",
   "metadata": {},
   "source": [
    "# Results\n",
    "\n",
    "The following illustrates our coding process:\n",
    "\n",
    "## Setup"
   ]
  },
  {
   "cell_type": "code",
   "execution_count": null,
   "metadata": {},
   "outputs": [],
   "source": [
    "import numpy as np, pandas as pd\n",
    "pd.set_option(\"display.max_rows\", 500)\n",
    "pd.set_option(\"display.max_columns\", 500)\n",
    "\n",
    "from tqdm import tqdm"
   ]
  },
  {
   "cell_type": "code",
   "execution_count": null,
   "metadata": {},
   "outputs": [],
   "source": [
    "# Read in availability schedule from the data\n",
    "ava_matrix = pd.read_excel(\"availability_schedule.xlsx\")\n",
    "\n",
    "# Set weight settings\n",
    "weights = {\n",
    "    \"empty_shift_penalty\": 10,\n",
    "    \"availability_penalty\": 10,\n",
    "    \"student_count_penalty\": 1,\n",
    "    \"underworked_penalty\": 2,\n",
    "    \"overworked_penalty\": 2\n",
    "}"
   ]
  },
  {
   "cell_type": "markdown",
   "metadata": {},
   "source": [
    "## Evaluation\n",
    "Our evaluation function compares the schedule matrix (work shift schedule) with the availiblity matrix to determine the penalties it should mark. The first two are hard constraints, which penalize 10 points for having an empty shift or a scheduling conflict. The last three are soft constraints, which penalize for having the wrong number of workers during a shift, having students with too few hours, and having students with too many hours."
   ]
  },
  {
   "cell_type": "code",
   "execution_count": null,
   "metadata": {},
   "outputs": [],
   "source": [
    "def evaluate_schedule(sch_matrix, ava_matrix):\n",
    "    score = 0\n",
    "    # Hard constraints\n",
    "    for shift in range(2, 30):\n",
    "        if sum(sch_matrix.iloc[:, shift]) == 0:\n",
    "            score -= weights['empty_shift_penalty']\n",
    "        for student in range(100):\n",
    "            if sch_matrix.iloc[student, shift] == True and ava_matrix.iloc[student, shift] == False:\n",
    "                score -= weights['availability_penalty']\n",
    "                \n",
    "    # Preferences\n",
    "    for shift in range(2, 30):\n",
    "        num_students = sum(sch_matrix.iloc[:, shift])\n",
    "        score -= weights['student_count_penalty'] * abs(num_students - 6)\n",
    "\n",
    "    for student in range(100):\n",
    "        num_shifts = sum(sch_matrix.iloc[student, 2:])\n",
    "        if num_shifts < 3:\n",
    "            score -= weights['underworked_penalty'] * (3 - num_shifts)\n",
    "        elif num_shifts > 4:\n",
    "            score -= weights['overworked_penalty'] * (num_shifts - 4)\n",
    "    \n",
    "    return score"
   ]
  },
  {
   "cell_type": "markdown",
   "metadata": {},
   "source": [
    "## Benchmarks\n",
    "\n",
    "To compare our results, we came up with two different schedules before making an improved one. The first is a trivial solution, which only abides by the hard constraints. This is achieved by simply making the schedule matrix equivalent to the availability matrix, or in other words, scheduling every student whenever possible."
   ]
  },
  {
   "cell_type": "code",
   "execution_count": null,
   "metadata": {},
   "outputs": [],
   "source": [
    "# \"Benchmark\", score for the easiest possible schedule to come up with\n",
    "evaluate_schedule(ava_matrix, ava_matrix)"
   ]
  },
  {
   "cell_type": "markdown",
   "metadata": {},
   "source": [
    "The result is a very low score, which we will consider the absolute bare minimum to beat.\n",
    "\n",
    "The second benchmark is achieved by a directed scheduling algorith, which chooses a random schedule based on the constraints, but does not utilize AI methods. This function considers all five constraints, and introduces some randomness in order to obtain a variety of schedules:"
   ]
  },
  {
   "cell_type": "code",
   "execution_count": null,
   "metadata": {},
   "outputs": [],
   "source": [
    "# Short helper function to randomly pick an item from a list\n",
    "def choose(lst):\n",
    "    return np.random.choice(lst)\n",
    "\n",
    "# Create an empty schedule, to which we will add shifts\n",
    "empty_sch = ava_matrix.copy()\n",
    "empty_sch.iloc[:, 2:] = False\n",
    "\n",
    "# Generate a random schedule that should achieve a decent score\n",
    "def generate_random_schedule(ava_matrix, initial_schedule=None):\n",
    "    if initial_schedule is None:\n",
    "        sch_matrix = empty_sch.copy()\n",
    "    else:\n",
    "        sch_matrix = initial_schedule.copy()\n",
    "        \n",
    "    for shift in range(2, 30):\n",
    "        # Shuffle rows of the availability schedule to get randomness\n",
    "        ava_matrix = ava_matrix.sample(frac=1).reset_index(drop=True)\n",
    "        \n",
    "        for ava_id in range(100):\n",
    "            # Typically, we would stop at 6, but this adds randomness:\n",
    "            if sum(sch_matrix.iloc[:, shift]) >= choose((5, 6, 7, 8, 9)):\n",
    "                break\n",
    "            \n",
    "            student_id = ava_matrix.iloc[ava_id][\"id\"]\n",
    "            sch_id = sch_matrix[sch_matrix[\"id\"] == student_id].index[0] # get location of student in schedule matrix\n",
    "            \n",
    "            # Typically, we would stop at 4, but this adds randomness:\n",
    "            if sum(sch_matrix.iloc[sch_id, 2:]) >= choose((2, 3, 4, 5)):\n",
    "                continue\n",
    "            \n",
    "            # If the student is available then...\n",
    "            if ava_matrix.iloc[ava_id, shift] == True:\n",
    "                # If the student is not already working...\n",
    "                if sch_matrix.iloc[sch_id, shift] == False: \n",
    "                    # Assign the student to that shift\n",
    "                    sch_matrix.iloc[sch_id, shift] = True \n",
    "                    \n",
    "    return sch_matrix"
   ]
  },
  {
   "cell_type": "code",
   "execution_count": null,
   "metadata": {},
   "outputs": [],
   "source": [
    "# The average score for random datasets can be thought of \n",
    "# as the benchmark for a non-AI algorithm\n",
    "scores = []\n",
    "for _ in tqdm(range(100)):\n",
    "    test_schedule = generate_random_schedule(ava_matrix)\n",
    "    evaluation = evaluate_schedule(test_schedule, ava_matrix)\n",
    "    scores.append(evaluation)\n",
    "    \n",
    "avg_score = np.mean(scores)\n",
    "avg_score"
   ]
  },
  {
   "cell_type": "markdown",
   "metadata": {},
   "source": [
    "The resulting score is much better than the previous benchmark, and should be difficult to beat.\n",
    "\n",
    "However, this evaluation function only gives us an overall picture of the performance, and does not tell us which errors are occuring the most. To determine this, we divided the evaluation function into three parts to determine what was primarily contributing to the overall penalty."
   ]
  },
  {
   "cell_type": "code",
   "execution_count": null,
   "metadata": {},
   "outputs": [],
   "source": [
    "# Sub-evaluation-functions that tell you the penalty for each type of error\n",
    "def ev_count(sch_matrix, ava_matrix):\n",
    "    score = 0\n",
    "    for shift in range(2, 30):\n",
    "        num_students = sum(sch_matrix.iloc[:, shift])\n",
    "        score -= weights['student_count_penalty'] * abs(num_students - 6)\n",
    "    return score\n",
    "\n",
    "def ev_under(sch_matrix, ava_matrix):\n",
    "    score = 0\n",
    "    for student in range(100):\n",
    "        num_shifts = sum(sch_matrix.iloc[student, 2:])\n",
    "        if num_shifts < 3:\n",
    "            score -= weights['underworked_penalty']\n",
    "    return score\n",
    "\n",
    "def ev_over(sch_matrix, ava_matrix):\n",
    "    score = 0\n",
    "    for student in range(100):\n",
    "        num_shifts = sum(sch_matrix.iloc[student, 2:])\n",
    "        if num_shifts > 4:\n",
    "            score -= weights['underworked_penalty']\n",
    "    return score"
   ]
  },
  {
   "cell_type": "code",
   "execution_count": null,
   "metadata": {},
   "outputs": [],
   "source": [
    "# View the average scores for each type of penalty\n",
    "scores = []\n",
    "for _ in tqdm(range(100)):\n",
    "    test_schedule = generate_random_schedule(ava_matrix)\n",
    "    eval_count = ev_count(test_schedule, ava_matrix)\n",
    "    eval_under = ev_under(test_schedule, ava_matrix)\n",
    "    eval_over = ev_over(test_schedule, ava_matrix)\n",
    "    scores.append((eval_count, eval_under, eval_over))\n",
    "    \n",
    "avg_count_penalty, avg_under_penalty, avg_over_penalty = np.array(scores).mean(axis=0)\n",
    "\n",
    "print(\"student_count_penalty:\", avg_count_penalty)\n",
    "print(\"underworked_penalty:\", avg_under_penalty)\n",
    "print(\"overworked_penalty:\", avg_over_penalty)"
   ]
  },
  {
   "cell_type": "markdown",
   "metadata": {},
   "source": [
    "From these results, it seems that the primary issue contributing to the penalty is the underworked penalty, meaning that there is generally a problem of students not having enough (3 to 4) shifts. \n",
    "\n",
    "With this in mind, the way we decided to improve this was by adding incrementally shifts to the schedule. We implemented this in a greedy algorithm described below:"
   ]
  },
  {
   "cell_type": "code",
   "execution_count": null,
   "metadata": {},
   "outputs": [],
   "source": [
    "# Function to sort matrix: underworked students on top, underworked shifts to the left\n",
    "def sort_matrix(sch_matrix):\n",
    "    sch_matrix = sch_matrix.iloc[:, 2:].T.reset_index(drop=True).T\n",
    "    \n",
    "    sch_matrix['shift_count'] = sch_matrix.sum(axis=1)\n",
    "    sch_matrix = sch_matrix.sort_values(by=\"shift_count\")\n",
    "    sch_matrix = sch_matrix.drop(\"shift_count\", axis=1)\n",
    "    \n",
    "    # Transpose and do the same\n",
    "    sch_matrix = sch_matrix.T\n",
    "    sch_matrix['student_count'] = sch_matrix.sum(axis=1)\n",
    "    sch_matrix = sch_matrix.sort_values(by=\"student_count\")\n",
    "    sch_matrix = sch_matrix.drop(\"student_count\", axis=1)\n",
    "    \n",
    "    return sch_matrix.T\n",
    "\n",
    "def add_shifts(sch_matrix, ava_matrix):\n",
    "    \n",
    "    # Sort the matrix to keep account of the rows and columns\n",
    "    sch_sorted = sort_matrix(sch_matrix)\n",
    "    students_ordered = sch_sorted.index\n",
    "    columns_ordered = sch_sorted.columns + 2\n",
    "    \n",
    "    # Greedy algorithm\n",
    "    for student_id in tqdm(students_ordered):\n",
    "        for shift_id in columns_ordered:\n",
    "            # If the student is not already working then...\n",
    "            if sch_matrix.iloc[student_id, shift_id] == False:\n",
    "                # If the student is available then...\n",
    "                if ava_matrix.iloc[student_id, shift_id] == True:\n",
    "                    # Test out a new schedule with that slot filled\n",
    "                    new_sch_matrix = sch_matrix.copy()\n",
    "                    new_sch_matrix.iloc[student_id, shift_id] = True\n",
    "                    \n",
    "                    # Evaluate the new schedule\n",
    "                    current_score = evaluate_schedule(sch_matrix, ava_matrix)\n",
    "                    new_score = evaluate_schedule(new_sch_matrix, ava_matrix)\n",
    "                    \n",
    "                    # If the new schedule is better, update the original schedule matrix\n",
    "                    if new_score > current_score:\n",
    "                        sch_matrix = new_sch_matrix\n",
    "    return sch_matrix"
   ]
  },
  {
   "cell_type": "code",
   "execution_count": null,
   "metadata": {},
   "outputs": [],
   "source": [
    "improved_sch = add_shifts(test_schedule, ava_matrix)"
   ]
  },
  {
   "cell_type": "markdown",
   "metadata": {},
   "source": [
    "To compare this result with the non-AI benchmark:"
   ]
  },
  {
   "cell_type": "code",
   "execution_count": null,
   "metadata": {},
   "outputs": [],
   "source": [
    "# compare non-AI benchmark with AI result\n",
    "new_score = evaluate_schedule(improved_sch, ava_matrix)\n",
    "print(\"Non-AI benchmark:\", avg_score)\n",
    "print(\"New result:\", new_score)"
   ]
  },
  {
   "cell_type": "markdown",
   "metadata": {},
   "source": [
    "The new result is almost twice as good as the benchmark."
   ]
  },
  {
   "cell_type": "markdown",
   "metadata": {},
   "source": [
    "# Discussion\n",
    "\n",
    "### Interpreting the result\n",
    "\n",
    "#### Main Point: Improved Scheduling Efficiency through the greedy approach\n",
    "- The result of this project is the improvement in scheduling by using the greedy approach to iteratively add shifts based on the evaluation function. The improved scores showcase that through this method, each shift has enough student workers while taking into account their class schedules and also making sure to not overwork or underwork any students.\n",
    "\n",
    "#### Minimizing  empty shifts:\n",
    "- The evaluation function has a penalty for the empty shifts so by adding a constraint that there needs to be at least one student per shift, the schedule score would be greater. There are more empty shifts in the initial random schedules compared to the improved schedules due to the constraint.\n",
    "\n",
    "#### Following the availability constraints:\n",
    "- The greedy approach follows the constraints of students' class schedules which means that the scheduler would only give shifts to students that are open during the given time frames. Any time a student's availability is ignored, there is a penalty. There are less violations when it comes to availability constraints with the improved schedules compared to the initial schedules.\n",
    "\n",
    "#### Overworking or underworking students and shift coverage:\n",
    "- Each shift needs to have 6 people working at all times to ensure each shift is adequately staffed and the scheduler needs to take into account students' class schedules as well. Looking at the results, there are generally more people who are underworked compared to overworked. The algorithm helps reduce overworking and underworking students throughout the week by having a penalty whenever a student has either less than 3 shifts or more than 4 shifts. \n",
    "\n",
    "### Limitations\n",
    "\n",
    "Some limitations to this project is the simple evalutation scoring system based on predefined penalties that might not fully encapsulate the way a dining hall may operate. There may be instances where there are specific preferences or constraints that won't be captured by the evalutation scoring system. The scalability of this algorithm may be inefficient as the number of students increase. The dataset used was only a sample size of 100. This approach does not use that many hyperparameters which can create usable schedules, but not the most optimal one. Adding more constraints for the model such as adding more students to peak hours and not allowing students to have a closing shift right before an opening shift to use would increase the likelihood for a good schedule. \n",
    "\n",
    "### Ethics & Privacy\n",
    "\n",
    "As mentioned before, we are creating synthetic data to train/test our tool. As such, we are not using real student data and are not concerned about privacy violations. We will also not provide any real information about students, classes, or facilities in our data.\n",
    "\n",
    "We do not intend to release our tool for actual use, but we will be very clear on any faults it has in our final report. We will also make it clear that it has been trained on synthetic data and not real student data, so while it will hopefully generalize to the real world, that is not what it will have been trained on.\n",
    "\n",
    "### Conclusion\n",
    "\n",
    "The project effectively displayed the use of a greedy approach to improve the shift scheduling of students working in dining halls. With many constraints such as reducing empty shifts, balancing shifts amongst the students working there, and their overall availabilty throughout the week, there are notable changes to the scheduler. The higher evaluation scores indicate that the algorithm can adjust to the given constraints as well as successfully elevate the shift assignments.\n",
    "\n",
    "Shift scheduling can be difficult when it comes to any job. In the context of workforce scheduling (WSP), this greedy approach can be used in customer service or healthcare to help maximize efficiency in scheduling for all the workers while making sure there are enough staff per shift.\n",
    "\n",
    "This model is fairly sipmle and straight forward so to improve on the current approach, future work could include taking into account student preferences and other fairness constraints that would create a more realistic way of scheduling students while possibly exploring reinforcement learning. Adding constraints for peak hours, shift leads, and times when students have emergencies and can not attend their shift are all ways to improve the performance of the scheduler as well as its scalability."
   ]
  },
  {
   "cell_type": "markdown",
   "metadata": {},
   "source": [
    "# Footnotes\n",
    "<a name=\"footnote1\">[1]:</a> [Workforce Scheduling](https://www.researchgate.net/publication/2333359_Workforce_Scheduling)<br>\n",
    "<a name=\"footnote2\">[2]:</a> [Heuristic Algorithm for Workforce Scheduling Problems](https://www.researchgate.net/publication/46189793_Heuristic_Algorithm_for_Workforce_Scheduling_Problems)<br>\n",
    "<a name=\"footnote3\">[3]:</a> [Constraint-Satisfaction Problems in Scheduling](http://eil2.mie.utoronto.ca/wp-content/uploads/scheduling/papers/fox-ecai90.pdf)<br>\n",
    "<a name=\"footnote4\">[4]:</a> [Reinforcement Learning in Scheduling](https://www.sciencedirect.com/science/article/pii/S2212827122001846)<br>\n",
    "\n",
    "ChatGPT was used for support with coding and writing."
   ]
  },
  {
   "cell_type": "code",
   "execution_count": null,
   "metadata": {},
   "outputs": [],
   "source": []
  }
 ],
 "metadata": {
  "kernelspec": {
   "display_name": "Python 3 (ipykernel)",
   "language": "python",
   "name": "python3"
  },
  "language_info": {
   "codemirror_mode": {
    "name": "ipython",
    "version": 3
   },
   "file_extension": ".py",
   "mimetype": "text/x-python",
   "name": "python",
   "nbconvert_exporter": "python",
   "pygments_lexer": "ipython3",
   "version": "3.11.4"
  }
 },
 "nbformat": 4,
 "nbformat_minor": 2
}
