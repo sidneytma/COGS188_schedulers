{
 "cells": [
  {
   "cell_type": "markdown",
   "metadata": {},
   "source": [
    "# COGS 188 - Project Proposal"
   ]
  },
  {
   "cell_type": "markdown",
   "metadata": {},
   "source": []
  },
  {
   "cell_type": "markdown",
   "metadata": {},
   "source": [
    "# Names\n",
    "\n",
    "- Amy Liu\n",
    "- Immanuel Chai\n",
    "- Sidney Ma"
   ]
  },
  {
   "cell_type": "markdown",
   "metadata": {},
   "source": [
    "# Abstract \n",
    "The goal of the project is to automate and optimally create a scheduler for a dining hall with 100 student workers each with a different class schedule. Each student needs to have 3 to 4 shifts per week, one shift per day at most, and each shift lasting around 4.5 hours. Each student would have a random generated class schedule to work their shifts around and the scheduling algorithm will take into account various constraints to create a balanced schedule for each student. This would include making sure there will be no consecutive closing and opening shifts, having enough student workers during peak hours, and having 1 or 2 leads per shift at all times. The algorithm will also be able to have backup options for students who are more experienced and can work in other dining halls and for sick students. Performance will be based on how balanced and optimal the work schedule is for each student based on the given constraints.\n"
   ]
  },
  {
   "cell_type": "markdown",
   "metadata": {},
   "source": [
    "# Background\n",
    "\n",
    "The workforce scheduling problem (WSP) involves determining the optimal assignment of workers to various work periods while satisfying constraints such as labor laws and employee preferences<sup>([1](https://www.researchgate.net/publication/2333359_Workforce_Scheduling))</sup>. This problem is crucial in maximizing organizational efficiency and profitability without compromising staff well-being.\n",
    "\n",
    "WSP has been a significant theme in operations research due to its broad applications in industries reliant on human capital, such as healthcare, public transportation, and customer service<sup>([2](https://www.researchgate.net/publication/46189793_Heuristic_Algorithm_for_Workforce_Scheduling_Problems))</sup>. These industries require efficient scheduling to ensure high service levels and operational efficiency. In the context of higher education, one application of the WSP can be found in assigning shifts for student workers at the dining hall. This setting presents unique challenges, such as students’ class schedules, ensuring adequate staffing in opening and closing shift hours, and preventing consecutive closing and opening shifts.\n",
    "\n",
    "Previous research has applied various algorithms and methodologies to address WSP. Techniques used for Constraint-Satisfaction Problems (CSPs) are well-suited for handling the complex and diverse constraints typical of scheduling problems<sup>([3](http://eil2.mie.utoronto.ca/wp-content/uploads/scheduling/papers/fox-ecai90.pdf))</sup>. Machine learning methods, particularly reinforcement learning, have also shown promise in dynamically adjusting schedules based on real-time data and learning from historical scheduling outcomes<sup>([4](https://www.sciencedirect.com/science/article/pii/S2212827122001846))</sup>.\n"
   ]
  },
  {
   "cell_type": "markdown",
   "metadata": {},
   "source": [
    "# Problem Statement\n",
    "\n",
    "This problem is an approximation of the needs of managers at the UCSD Sixth Market, where they have to assign shifts for student workers each week, based on their class schedules and a set of other constraints. Our goal is to create a tool that takes in a large dataset of student workers’ class schedules and outputs a realistic, fair, and efficient work shift schedule for a given facility. Specifically, the tool will be provided with 100 unique students and their weekly class schedules. It will need to organize a schedule such that at least 6 students are present in the facility at all open times (6am - 12 am), each shift is 4.5 hours long, each student works 3 or 4 shifts per week, and does not work more than 1 shift per day. \n",
    "\n",
    "The tool will also adhere to various other preferences; for example, that students are not assigned to “clopening” shifts, that more students are assigned to busy hours, that 1 or 2 shift leads are present at all times, and that backups are ready in case of call-outs. \n",
    "\n",
    "As mentioned before, this problem could be appropriately modeled as a CSP. The tool’s performance will be based on how well it abides by the above constraints, measured by its reward scores. We will determine the exact preferences in the process. We also plan to replicate its performance with a wide variety of student schedules to ensure that it is generalizable to new students.\n"
   ]
  },
  {
   "cell_type": "markdown",
   "metadata": {},
   "source": [
    "# Data\n",
    "\n",
    "In order to train and test our tool, we will need student class schedule data to work with. While it could be possible to collect real student schedule data, this data might not be readily available to us, and it might lead to a considerable privacy violation. To avoid this, we plan to create a synthetic dataset which will model what typical UCSD student class schedules look like. Each observation of this dataset represents a student and their weekly class schedule. This includes their ID, name, and hour-by-hour availability from Monday through Friday, 8am to 9pm. A rough example model of this dataset can be found here: https://github.com/sidneytma/COGS188_schedulers/blob/43fe786425752a890950a65f7dfd0e34daa195a5/example_students.csv. The exact times and ranges will be adjusted. We plan to include many more observations (>1000), as well as a more accurate format for Tuesdays and Thursdays, and a more realistic weekly schedule structured overall.\n",
    "\n",
    "\n",
    "While it could also be possible to collect data on real shift schedules to get a sense of what a “good schedule” looks like, this involves the same problem as before, with access and privacy issues. Most likely, we will not need this data anyway, as our solution does not involve modeling after real schedules.\n"
   ]
  },
  {
   "cell_type": "markdown",
   "metadata": {},
   "source": [
    "# Proposed Solution\n",
    "\n",
    "We will test out two types of algorithms for this problem. \n",
    "1. **Constraint Satisfaction Problem (CSP)**:\n",
    "* We will take each students’ assigned shifts as a variable, and the possible shift slots as the domain. The basic constraints are that (1) each student can only work 3 or 4 shifts per week, (2) between 6am - 12am, at least 6 student workers will always be present, (3) no shifts can overlap with class times, and (4) a shift always starts on the clock or at half and hour. \n",
    "* We first assign shifts to the student with least available time slots, and recursively assign shifts to the next student. We will propagate this updated constraint to the domains of remaining students. If there are any conflicts, we will backtrack to the last assignment. Finally, we check that all students are assigned shifts without conflicts, and verify our solution. \n",
    "2. **Reinforcement Learning with Q-learning**:\n",
    "* We will define the states as the current schedule configuration, and actions as assigning a shift. We will give rewards for satisfying each constraint (e.g., add score for having 3 or 4 shifts per week, minus score for having consecutive shifts). We will test out different learning rates and epsilon scores to find the optimal policy. Finally, we check that all students are assigned shifts without conflicts. \n"
   ]
  },
  {
   "cell_type": "markdown",
   "metadata": {},
   "source": [
    "# Evaluation Metrics\n",
    "\n",
    "For each schedule result, we will test the following metrics on the training and testing dataset. \n",
    "1. **Schedule feasibility:**\n",
    "* Measures the percentage of constraints satisfied by the algorithm over the total number of constraints which would include students having 3-4 working shifts, no more than one shift per day, avoid consecutive opening and closing shifts, having enough student workers during peak hours, and having 1-2 leads per shift.\n",
    "\n",
    "* Schedule feasibility = (Number of satisfied constraints/Total constraints) x number of students\n",
    "Ex: IF there are 350 satisfied constraints out of 400 total constraints, the constraint satisfaction would be 87.5%\n",
    "\n",
    "2. **Student workload balance:** \n",
    "* How even the workload is distributed to students based on their number of shifts and their schedule. For example, the score would be low if certain students are only assigned 2 shifts and others are assigned 5. \n",
    "\n",
    "* Workload balance = standard deviation of number of shifts = std (1/n * sum (Si - S_mean)^2), where we have n students in total, i goes from 1 to n, and S represents the number of shifts per student per week. \n",
    "3. **Computational efficiency:** \n",
    "* Time taken to generate schedules. We want the tool to be generalized to larger facilities, so a faster calculation would have a better performance. \n",
    "4. **Lead presence score:** \n",
    "* Metric that measures the amount of shifts that have 1-2 leads present\n",
    "* Lead Presence score = (Number of shifts 1-2 leads/Total number of shifts) x 100\n",
    "    * Ex: If there are 100 shifts and 85 of them have 1-2 leads present, then the lead presence score would be 85%\n"
   ]
  },
  {
   "cell_type": "markdown",
   "metadata": {},
   "source": [
    "# Ethics & Privacy"
   ]
  },
  {
   "cell_type": "markdown",
   "metadata": {},
   "source": [
    "As mentioned before, we are creating synthetic data to train/test our tool. As such, we are not using real student data and are not concerned about privacy violations. We will also not provide any real information about students, classes, or facilities in our data. \n",
    "\n",
    "\n",
    "We do not intend to release our tool for actual use, but we will be very clear on any faults it has in our final report. We will also make it clear that it has been trained on synthetic data and not real student data, so while it will hopefully generalize to the real world, that is not what it will have been trained on.\n"
   ]
  },
  {
   "cell_type": "markdown",
   "metadata": {},
   "source": [
    "# Team Expectations "
   ]
  },
  {
   "cell_type": "markdown",
   "metadata": {},
   "source": [
    "\n",
    "* We will update each other progress at least once a week\n",
    "* We will use discord to communicate\n",
    "* We will update each other before and after making any major changes\n",
    "* We expect roughly equal contributions from each member\n",
    "* We will be clear about our availability for meetings"
   ]
  },
  {
   "cell_type": "markdown",
   "metadata": {},
   "source": [
    "# Project Timeline Proposal"
   ]
  },
  {
   "cell_type": "markdown",
   "metadata": {},
   "source": [
    "| Week | Day | Action Items                            |\n",
    "|:-----|:----|:----------------------------------------|\n",
    "| 7    | Fri | Finish writing proposal                         |\n",
    "| 8    | Mon | Make final adjustments to plan (particularly algorithms) |\n",
    "| 8    | Tue | Create student schedule dataset         |\n",
    "| 8    | Fri | Prepare CSP algorithms                  |\n",
    "| 9    | Fri | Complete functional tool (not optimal, but functional) |\n",
    "| 10   | Fri | Complete optimal tool (prepared deliverable)                   |\n",
    "| F    | Mon | Finishing touches (e.g. UI); finish report                 |\n",
    "| F    | Wed | Finish project and submit                         |\n"
   ]
  },
  {
   "cell_type": "markdown",
   "metadata": {},
   "source": [
    "# Footnotes\n",
    "<a name=\"footnote1\">[1]:</a> [Workforce Scheduling](https://www.researchgate.net/publication/2333359_Workforce_Scheduling)<br>\n",
    "<a name=\"footnote2\">[2]:</a> [Heuristic Algorithm for Workforce Scheduling Problems](https://www.researchgate.net/publication/46189793_Heuristic_Algorithm_for_Workforce_Scheduling_Problems)<br>\n",
    "<a name=\"footnote3\">[3]:</a> [Constraint-Satisfaction Problems in Scheduling](http://eil2.mie.utoronto.ca/wp-content/uploads/scheduling/papers/fox-ecai90.pdf)<br>\n",
    "<a name=\"footnote4\">[4]:</a> [Reinforcement Learning in Scheduling](https://www.sciencedirect.com/science/article/pii/S2212827122001846)<br>"
   ]
  },
  {
   "cell_type": "code",
   "execution_count": null,
   "metadata": {},
   "outputs": [],
   "source": []
  }
 ],
 "metadata": {
  "kernelspec": {
   "display_name": "Python 3 (ipykernel)",
   "language": "python",
   "name": "python3"
  },
  "language_info": {
   "codemirror_mode": {
    "name": "ipython",
    "version": 3
   },
   "file_extension": ".py",
   "mimetype": "text/x-python",
   "name": "python",
   "nbconvert_exporter": "python",
   "pygments_lexer": "ipython3",
   "version": "3.11.4"
  }
 },
 "nbformat": 4,
 "nbformat_minor": 2
}
